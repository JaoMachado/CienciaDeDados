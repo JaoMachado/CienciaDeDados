{
  "nbformat": 4,
  "nbformat_minor": 0,
  "metadata": {
    "colab": {
      "provenance": [],
      "toc_visible": true
    },
    "kernelspec": {
      "name": "python3",
      "display_name": "Python 3"
    },
    "language_info": {
      "name": "python"
    }
  },
  "cells": [
    {
      "cell_type": "code",
      "execution_count": 20,
      "metadata": {
        "id": "BJA2xmdJnTIu"
      },
      "outputs": [],
      "source": [
        "import random\n",
        "import numpy as np\n",
        "import seaborn as srn\n",
        "import matplotlib.pyplot as plt"
      ]
    },
    {
      "cell_type": "markdown",
      "source": [
        "Fazer um código que calcule a variância e o desvio padrão (sem utilizar funções prontas) dos salários da empresa apresentados no slide 6.\n",
        "Calcule também a moda e mediana dos salários.\n",
        "Apresente ao final do código a média e o desvio padrão dos salários da companhia.\n",
        "Use um vetor para armazenar a lista de salários da empresa\n"
      ],
      "metadata": {
        "id": "f21hxXpbqwvQ"
      }
    },
    {
      "cell_type": "code",
      "source": [
        "numeros = []\n",
        "for a in range(10000):\n",
        "  numero = random.randint(0, 10)\n",
        "  numeros.append(numero)"
      ],
      "metadata": {
        "id": "okx4qIP4pqpv"
      },
      "execution_count": 17,
      "outputs": []
    },
    {
      "cell_type": "markdown",
      "source": [
        "Número de Elementos"
      ],
      "metadata": {
        "id": "f4gdJ8uhx_ld"
      }
    },
    {
      "cell_type": "code",
      "source": [
        "print(\"Número de Elementos: \", len(numeros))"
      ],
      "metadata": {
        "colab": {
          "base_uri": "https://localhost:8080/"
        },
        "id": "PxC_WptTqwCu",
        "outputId": "8764b5d8-59f8-4fc8-dbfe-89a6d7636278"
      },
      "execution_count": 8,
      "outputs": [
        {
          "output_type": "stream",
          "name": "stdout",
          "text": [
            "Número de Elementos:  10000\n"
          ]
        }
      ]
    },
    {
      "cell_type": "markdown",
      "source": [
        "Valores Minimo e Maximo"
      ],
      "metadata": {
        "id": "uL4SelX_yHqk"
      }
    },
    {
      "cell_type": "code",
      "source": [
        "print(\"Valor Minimo: \", min(numeros))\n",
        "print(\"Valor Maximo: \", max(numeros))"
      ],
      "metadata": {
        "colab": {
          "base_uri": "https://localhost:8080/"
        },
        "id": "ehvi7Ot-yM20",
        "outputId": "0b47f868-71f6-4cf8-ffbd-b27655875e7c"
      },
      "execution_count": 9,
      "outputs": [
        {
          "output_type": "stream",
          "name": "stdout",
          "text": [
            "Valor Minimo:  0\n",
            "Valor Maximo:  10\n"
          ]
        }
      ]
    },
    {
      "cell_type": "markdown",
      "source": [
        "Média"
      ],
      "metadata": {
        "id": "SL-AXGF4yXoD"
      }
    },
    {
      "cell_type": "code",
      "source": [
        "media = np.mean(numeros)\n",
        "print(\"Média: \", media)"
      ],
      "metadata": {
        "id": "Lpafc6KXqx02",
        "colab": {
          "base_uri": "https://localhost:8080/"
        },
        "outputId": "cdb8f708-b811-4486-8090-be3a0ded3d4d"
      },
      "execution_count": 11,
      "outputs": [
        {
          "output_type": "stream",
          "name": "stdout",
          "text": [
            "Média:  5.013\n"
          ]
        }
      ]
    },
    {
      "cell_type": "markdown",
      "source": [
        "Variância"
      ],
      "metadata": {
        "id": "C9HBIwGQsIYF"
      }
    },
    {
      "cell_type": "code",
      "source": [
        "variancia = 0\n",
        "for a in numeros:\n",
        "  variancia += ((a - media)**2)\n",
        "\n",
        "variancia = variancia/(len(numeros) - 1)\n",
        "print(\"Variância: \", variancia)"
      ],
      "metadata": {
        "colab": {
          "base_uri": "https://localhost:8080/"
        },
        "id": "2K3iV13DrNg2",
        "outputId": "1544523a-a636-4e8b-a02b-8025a5d4f430"
      },
      "execution_count": 12,
      "outputs": [
        {
          "output_type": "stream",
          "name": "stdout",
          "text": [
            "Variância:  9.99243024302406\n"
          ]
        }
      ]
    },
    {
      "cell_type": "markdown",
      "source": [
        "Desvio Padrão"
      ],
      "metadata": {
        "id": "g9RgztK-sKmW"
      }
    },
    {
      "cell_type": "code",
      "source": [
        "desvioPadrao = variancia**(1/2)\n",
        "\n",
        "print(\"Desvio Padrão: \", desvioPadrao)"
      ],
      "metadata": {
        "colab": {
          "base_uri": "https://localhost:8080/"
        },
        "id": "bnT2vpLPr4Yn",
        "outputId": "e393465a-4723-4f52-9865-0baeecfbbced"
      },
      "execution_count": 41,
      "outputs": [
        {
          "output_type": "stream",
          "name": "stdout",
          "text": [
            "Desvio Padrão:  3.1610805499107517\n"
          ]
        }
      ]
    },
    {
      "cell_type": "markdown",
      "source": [
        "Histograma"
      ],
      "metadata": {
        "id": "PhvdxI3pyz20"
      }
    },
    {
      "cell_type": "code",
      "source": [
        "plt.figure(figsize=(8,5))\n",
        "srn.histplot(numeros, kde=True, bins=22, color='skyblue')\n",
        "plt.title('Histograma da Distribuição dos Dados')\n",
        "plt.xlabel('Valores')\n",
        "plt.ylabel('Frequência')\n",
        "plt.show()"
      ],
      "metadata": {
        "colab": {
          "base_uri": "https://localhost:8080/",
          "height": 487
        },
        "id": "-Bx2EpOE0d5T",
        "outputId": "63a33cec-d48e-4909-e165-eee7db61c71b"
      },
      "execution_count": 37,
      "outputs": [
        {
          "output_type": "display_data",
          "data": {
            "text/plain": [
              "<Figure size 800x500 with 1 Axes>"
            ],
            "image/png": "[encoded data removed]"
          },
          "metadata": {}
        }
      ]
    },
    {
      "cell_type": "markdown",
      "source": [
        "Intervalos 68%, 95% e 99.7%"
      ],
      "metadata": {
        "id": "5lkcM9NA5HSJ"
      }
    },
    {
      "cell_type": "code",
      "source": [
        "intervalo_68 = (media - desvioPadrao, media + desvioPadrao)\n",
        "intervalo_95 = (media - 2*desvioPadrao, media + 2*desvioPadrao)\n",
        "intervalo_997 = (media - 3*desvioPadrao, media + 3*desvioPadrao)\n",
        "\n",
        "print(f\"68% dos dados estão entre: ({intervalo_68[0]:.2f}, {intervalo_68[1]:.2f})\")\n",
        "print(f\"95% dos dados estão entre: ({intervalo_95[0]:.2f}, {intervalo_95[1]:.2f})\")\n",
        "print(f\"99,7% dos dados estão entre: ({intervalo_997[0]:.2f}, {intervalo_997[1]:.2f})\")"
      ],
      "metadata": {
        "colab": {
          "base_uri": "https://localhost:8080/"
        },
        "id": "Asr9-cqW48uC",
        "outputId": "c8dc7c58-cbb5-4fff-c60f-32ff92f568c9"
      },
      "execution_count": 47,
      "outputs": [
        {
          "output_type": "stream",
          "name": "stdout",
          "text": [
            "68% dos dados estão entre: (1.85, 8.17)\n",
            "95% dos dados estão entre: (-1.31, 11.34)\n",
            "99,7% dos dados estão entre: (-4.47, 14.50)\n"
          ]
        }
      ]
    }
  ]
}