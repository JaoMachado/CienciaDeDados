{
  "nbformat": 4,
  "nbformat_minor": 0,
  "metadata": {
    "colab": {
      "provenance": [],
      "toc_visible": true
    },
    "kernelspec": {
      "name": "python3",
      "display_name": "Python 3"
    },
    "language_info": {
      "name": "python"
    }
  },
  "cells": [
    {
      "cell_type": "code",
      "execution_count": 2,
      "metadata": {
        "id": "BJA2xmdJnTIu"
      },
      "outputs": [],
      "source": [
        "import random\n",
        "import numpy as np\n",
        "import seaborn as srn\n",
        "import matplotlib.pyplot as plt"
      ]
    },
    {
      "cell_type": "markdown",
      "source": [
        "Faça como no exercício anterior (i.e., calcular a média, variância, desvio padrão e plotar o histograma) para dados gerados aleatoriamente por meio da seguinte função, simulando a distribuição de altura em homens. Refaça para a média de altura em mulheres.\n",
        "import numpy as np\n",
        "mu, sigma = 175, 6\n",
        "data = np.random.normal(mu, sigma, 10000)"
      ],
      "metadata": {
        "id": "f21hxXpbqwvQ"
      }
    },
    {
      "cell_type": "markdown",
      "source": [
        "Homens"
      ],
      "metadata": {
        "id": "ZfnvsJKvujcv"
      }
    },
    {
      "cell_type": "code",
      "source": [
        "mu, sigma = 175, 6\n",
        "data = np.random.normal(mu, sigma, 10000)"
      ],
      "metadata": {
        "id": "okx4qIP4pqpv"
      },
      "execution_count": 6,
      "outputs": []
    },
    {
      "cell_type": "markdown",
      "source": [
        "Número de Elementos"
      ],
      "metadata": {
        "id": "f4gdJ8uhx_ld"
      }
    },
    {
      "cell_type": "code",
      "source": [
        "print(\"Número de Elementos: \", len(data))"
      ],
      "metadata": {
        "colab": {
          "base_uri": "https://localhost:8080/"
        },
        "id": "PxC_WptTqwCu",
        "outputId": "6f70dc13-329b-453e-97c8-3e7f60a1df78"
      },
      "execution_count": 7,
      "outputs": [
        {
          "output_type": "stream",
          "name": "stdout",
          "text": [
            "Número de Elementos:  10000\n"
          ]
        }
      ]
    },
    {
      "cell_type": "markdown",
      "source": [
        "Valores Minimo e Maximo"
      ],
      "metadata": {
        "id": "uL4SelX_yHqk"
      }
    },
    {
      "cell_type": "code",
      "source": [
        "print(\"Valor Minimo: \", min(data))\n",
        "print(\"Valor Maximo: \", max(data))"
      ],
      "metadata": {
        "colab": {
          "base_uri": "https://localhost:8080/"
        },
        "id": "ehvi7Ot-yM20",
        "outputId": "63f17603-ec3c-4e71-9c86-9a6286d0dde4"
      },
      "execution_count": 8,
      "outputs": [
        {
          "output_type": "stream",
          "name": "stdout",
          "text": [
            "Valor Minimo:  153.06636526492977\n",
            "Valor Maximo:  198.90465816970118\n"
          ]
        }
      ]
    },
    {
      "cell_type": "markdown",
      "source": [
        "Média"
      ],
      "metadata": {
        "id": "SL-AXGF4yXoD"
      }
    },
    {
      "cell_type": "code",
      "source": [
        "media = np.mean(data)\n",
        "print(\"Média: \", media)"
      ],
      "metadata": {
        "id": "Lpafc6KXqx02",
        "colab": {
          "base_uri": "https://localhost:8080/"
        },
        "outputId": "4026cc50-1ecd-4d3e-bd1c-b37ef79d76b6"
      },
      "execution_count": 9,
      "outputs": [
        {
          "output_type": "stream",
          "name": "stdout",
          "text": [
            "Média:  174.99168464138248\n"
          ]
        }
      ]
    },
    {
      "cell_type": "markdown",
      "source": [
        "Variância"
      ],
      "metadata": {
        "id": "C9HBIwGQsIYF"
      }
    },
    {
      "cell_type": "code",
      "source": [
        "variancia = 0\n",
        "for a in data:\n",
        "  variancia += ((a - media)**2)\n",
        "\n",
        "variancia = variancia/(len(data) - 1)\n",
        "print(\"Variância: \", variancia)"
      ],
      "metadata": {
        "colab": {
          "base_uri": "https://localhost:8080/"
        },
        "id": "2K3iV13DrNg2",
        "outputId": "d7930599-6254-436e-ee1a-79ac42767bd4"
      },
      "execution_count": 10,
      "outputs": [
        {
          "output_type": "stream",
          "name": "stdout",
          "text": [
            "Variância:  35.94966648519776\n"
          ]
        }
      ]
    },
    {
      "cell_type": "markdown",
      "source": [
        "Desvio Padrão"
      ],
      "metadata": {
        "id": "g9RgztK-sKmW"
      }
    },
    {
      "cell_type": "code",
      "source": [
        "desvioPadrao = variancia**(1/2)\n",
        "\n",
        "print(\"Desvio Padrão: \", desvioPadrao)"
      ],
      "metadata": {
        "colab": {
          "base_uri": "https://localhost:8080/"
        },
        "id": "bnT2vpLPr4Yn",
        "outputId": "ce46a495-4cae-4361-ce94-39448953b3a4"
      },
      "execution_count": 11,
      "outputs": [
        {
          "output_type": "stream",
          "name": "stdout",
          "text": [
            "Desvio Padrão:  5.995804073283062\n"
          ]
        }
      ]
    },
    {
      "cell_type": "markdown",
      "source": [
        "Histograma"
      ],
      "metadata": {
        "id": "PhvdxI3pyz20"
      }
    },
    {
      "cell_type": "code",
      "source": [
        "plt.figure(figsize=(8,5))\n",
        "srn.histplot(data, kde=True, bins=22, color='skyblue')\n",
        "plt.title('Histograma da Distribuição dos Dados')\n",
        "plt.xlabel('Altura')\n",
        "plt.ylabel('Frequência')\n",
        "plt.show()"
      ],
      "metadata": {
        "colab": {
          "base_uri": "https://localhost:8080/",
          "height": 487
        },
        "id": "-Bx2EpOE0d5T",
        "outputId": "c505b86c-edf3-4af0-ad56-8b14796def1d"
      },
      "execution_count": 13,
      "outputs": [
        {
          "output_type": "display_data",
          "data": {
            "text/plain": [
              "<Figure size 800x500 with 1 Axes>"
            ],
            "image/png": "[encoded data removed]"
          },
          "metadata": {}
        }
      ]
    },
    {
      "cell_type": "markdown",
      "source": [
        "Intervalos 68%, 95% e 99.7%"
      ],
      "metadata": {
        "id": "5lkcM9NA5HSJ"
      }
    },
    {
      "cell_type": "code",
      "source": [
        "intervalo_68 = (media - desvioPadrao, media + desvioPadrao)\n",
        "intervalo_95 = (media - 2*desvioPadrao, media + 2*desvioPadrao)\n",
        "intervalo_997 = (media - 3*desvioPadrao, media + 3*desvioPadrao)\n",
        "\n",
        "print(f\"68% dos dados estão entre: ({intervalo_68[0]:.2f}, {intervalo_68[1]:.2f})\")\n",
        "print(f\"95% dos dados estão entre: ({intervalo_95[0]:.2f}, {intervalo_95[1]:.2f})\")\n",
        "print(f\"99,7% dos dados estão entre: ({intervalo_997[0]:.2f}, {intervalo_997[1]:.2f})\")"
      ],
      "metadata": {
        "colab": {
          "base_uri": "https://localhost:8080/"
        },
        "id": "Asr9-cqW48uC",
        "outputId": "acabd16c-5aca-45a2-b2f1-1ccc2443af69"
      },
      "execution_count": 14,
      "outputs": [
        {
          "output_type": "stream",
          "name": "stdout",
          "text": [
            "68% dos dados estão entre: (169.00, 180.99)\n",
            "95% dos dados estão entre: (163.00, 186.98)\n",
            "99,7% dos dados estão entre: (157.00, 192.98)\n"
          ]
        }
      ]
    },
    {
      "cell_type": "markdown",
      "source": [
        "Mulheres(women)"
      ],
      "metadata": {
        "id": "pvSSu5wmvGsQ"
      }
    },
    {
      "cell_type": "code",
      "source": [
        "mu, sigma = 162, 5\n",
        "data = np.random.normal(mu, sigma, 10000)"
      ],
      "metadata": {
        "id": "AyyB8gBjvMyl"
      },
      "execution_count": 34,
      "outputs": []
    },
    {
      "cell_type": "markdown",
      "source": [
        "Número de Elementos"
      ],
      "metadata": {
        "id": "0QKEkuVnvMym"
      }
    },
    {
      "cell_type": "code",
      "source": [
        "print(\"Número de Elementos: \", len(data))"
      ],
      "metadata": {
        "colab": {
          "base_uri": "https://localhost:8080/"
        },
        "outputId": "8a2324da-f063-4fa2-e116-e0781a2165f7",
        "id": "kiLbiC2ovMyn"
      },
      "execution_count": 35,
      "outputs": [
        {
          "output_type": "stream",
          "name": "stdout",
          "text": [
            "Número de Elementos:  10000\n"
          ]
        }
      ]
    },
    {
      "cell_type": "markdown",
      "source": [
        "Valores Minimo e Maximo"
      ],
      "metadata": {
        "id": "vvKtK0I7vMyn"
      }
    },
    {
      "cell_type": "code",
      "source": [
        "print(\"Valor Minimo: \", min(data))\n",
        "print(\"Valor Maximo: \", max(data))"
      ],
      "metadata": {
        "colab": {
          "base_uri": "https://localhost:8080/"
        },
        "outputId": "b2b96a7e-9c43-4046-a85b-911ee30f2ac3",
        "id": "rLYybeltvMyn"
      },
      "execution_count": 36,
      "outputs": [
        {
          "output_type": "stream",
          "name": "stdout",
          "text": [
            "Valor Minimo:  142.56057394451116\n",
            "Valor Maximo:  180.1936668427053\n"
          ]
        }
      ]
    },
    {
      "cell_type": "markdown",
      "source": [
        "Média"
      ],
      "metadata": {
        "id": "uyS_5BJXvMyo"
      }
    },
    {
      "cell_type": "code",
      "source": [
        "media = np.mean(data)\n",
        "print(\"Média: \", media)"
      ],
      "metadata": {
        "colab": {
          "base_uri": "https://localhost:8080/"
        },
        "outputId": "e7483654-7c15-4744-b212-119a962fc47a",
        "id": "43wUu7-hvMyo"
      },
      "execution_count": 37,
      "outputs": [
        {
          "output_type": "stream",
          "name": "stdout",
          "text": [
            "Média:  161.96547518876005\n"
          ]
        }
      ]
    },
    {
      "cell_type": "markdown",
      "source": [
        "Variância"
      ],
      "metadata": {
        "id": "QBaAv0VAvMyo"
      }
    },
    {
      "cell_type": "code",
      "source": [
        "variancia = 0\n",
        "for a in data:\n",
        "  variancia += ((a - media)**2)\n",
        "\n",
        "variancia = variancia/(len(data) - 1)\n",
        "print(\"Variância: \", variancia)"
      ],
      "metadata": {
        "colab": {
          "base_uri": "https://localhost:8080/"
        },
        "outputId": "413901c8-a19e-4c0e-ab99-acc555618f67",
        "id": "olrwLSMzvMyo"
      },
      "execution_count": 38,
      "outputs": [
        {
          "output_type": "stream",
          "name": "stdout",
          "text": [
            "Variância:  24.42154147811988\n"
          ]
        }
      ]
    },
    {
      "cell_type": "markdown",
      "source": [
        "Desvio Padrão"
      ],
      "metadata": {
        "id": "bpS9mKsFvMyp"
      }
    },
    {
      "cell_type": "code",
      "source": [
        "desvioPadrao = variancia**(1/2)\n",
        "\n",
        "print(\"Desvio Padrão: \", desvioPadrao)"
      ],
      "metadata": {
        "colab": {
          "base_uri": "https://localhost:8080/"
        },
        "outputId": "8bfac1f1-7b68-4c85-e3ae-87cbcbbfc073",
        "id": "iASnySmgvMyp"
      },
      "execution_count": 39,
      "outputs": [
        {
          "output_type": "stream",
          "name": "stdout",
          "text": [
            "Desvio Padrão:  4.941815605434897\n"
          ]
        }
      ]
    },
    {
      "cell_type": "markdown",
      "source": [
        "Histograma"
      ],
      "metadata": {
        "id": "fzRRLOs7vMyp"
      }
    },
    {
      "cell_type": "code",
      "source": [
        "plt.figure(figsize=(8,5))\n",
        "srn.histplot(data, kde=True, bins=22, color='skyblue')\n",
        "plt.title('Histograma da Distribuição dos Dados')\n",
        "plt.xlabel('Altura')\n",
        "plt.ylabel('Frequência')\n",
        "plt.show()"
      ],
      "metadata": {
        "colab": {
          "base_uri": "https://localhost:8080/",
          "height": 487
        },
        "outputId": "b1dd03c7-c06d-46c7-85f3-4d28b348329a",
        "id": "VL_hhKqkvMyp"
      },
      "execution_count": 40,
      "outputs": [
        {
          "output_type": "display_data",
          "data": {
            "text/plain": [
              "<Figure size 800x500 with 1 Axes>"
            ],
            "image/png": "[encoded data removed]"
          },
          "metadata": {}
        }
      ]
    },
    {
      "cell_type": "markdown",
      "source": [
        "Intervalos 68%, 95% e 99.7%"
      ],
      "metadata": {
        "id": "spmU9DPtvMyp"
      }
    },
    {
      "cell_type": "code",
      "source": [
        "intervalo_68 = (media - desvioPadrao, media + desvioPadrao)\n",
        "intervalo_95 = (media - 2*desvioPadrao, media + 2*desvioPadrao)\n",
        "intervalo_997 = (media - 3*desvioPadrao, media + 3*desvioPadrao)\n",
        "\n",
        "print(f\"68% dos dados estão entre: ({intervalo_68[0]:.2f}, {intervalo_68[1]:.2f})\")\n",
        "print(f\"95% dos dados estão entre: ({intervalo_95[0]:.2f}, {intervalo_95[1]:.2f})\")\n",
        "print(f\"99,7% dos dados estão entre: ({intervalo_997[0]:.2f}, {intervalo_997[1]:.2f})\")"
      ],
      "metadata": {
        "colab": {
          "base_uri": "https://localhost:8080/"
        },
        "outputId": "0cdee223-179f-42c5-a365-2d5a909a87e4",
        "id": "qxlBkiszvMyp"
      },
      "execution_count": 41,
      "outputs": [
        {
          "output_type": "stream",
          "name": "stdout",
          "text": [
            "68% dos dados estão entre: (157.02, 166.91)\n",
            "95% dos dados estão entre: (152.08, 171.85)\n",
            "99,7% dos dados estão entre: (147.14, 176.79)\n"
          ]
        }
      ]
    }
  ]
}