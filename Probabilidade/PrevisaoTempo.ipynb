{
  "nbformat": 4,
  "nbformat_minor": 0,
  "metadata": {
    "colab": {
      "provenance": []
    },
    "kernelspec": {
      "name": "python3",
      "display_name": "Python 3"
    },
    "language_info": {
      "name": "python"
    }
  },
  "cells": [
    {
      "cell_type": "code",
      "execution_count": 1,
      "metadata": {
        "id": "BJA2xmdJnTIu"
      },
      "outputs": [],
      "source": [
        "import random\n",
        "import numpy as np"
      ]
    },
    {
      "cell_type": "markdown",
      "source": [
        "Previsão do Tempo e Probabilidade Condicional\n",
        "Suponha que a previsão do tempo para um determinado dia indica uma probabilidade de 60% de chuva. Além disso, se chover, há uma probabilidade de 70% de relâmpagos. Com base nisso, crie um simulador que estima a probabilidade de ocorrer chuva com relâmpagos em um dia.\n",
        "Tarefas:\n",
        "Simular o evento de chuva e o evento de relâmpagos.\n",
        "Estimar a probabilidade conjunta de chuva com relâmpagos após 100, 1000 e 100000 dias."
      ],
      "metadata": {
        "id": "f21hxXpbqwvQ"
      }
    },
    {
      "cell_type": "code",
      "source": [
        "p_chuva = 0.6\n",
        "p_relampago_dado_chuva = 0.7"
      ],
      "metadata": {
        "id": "DqVRyoAhsega"
      },
      "execution_count": 3,
      "outputs": []
    },
    {
      "cell_type": "code",
      "source": [
        "for n_dias in [100, 1000, 100000]:\n",
        "    count_chuva_relampago = 0\n",
        "\n",
        "    for _ in range(n_dias):\n",
        "        if random.random() < p_chuva:\n",
        "            if random.random() < p_relampago_dado_chuva:\n",
        "                count_chuva_relampago += 1\n",
        "\n",
        "    prob = count_chuva_relampago / n_dias\n",
        "    print(f\"Probabilidade em {n_dias} dias : {prob:.4f}\")\n"
      ],
      "metadata": {
        "id": "8AftCfaro-xA",
        "colab": {
          "base_uri": "https://localhost:8080/"
        },
        "outputId": "0a979b94-0f82-4388-f690-6413f2259b47"
      },
      "execution_count": 50,
      "outputs": [
        {
          "output_type": "stream",
          "name": "stdout",
          "text": [
            "Probabilidade em 100 dias : 0.3800\n",
            "Probabilidade em 1000 dias : 0.4440\n",
            "Probabilidade em 100000 dias : 0.4226\n"
          ]
        }
      ]
    }
  ]
}